{
  "nbformat": 4,
  "nbformat_minor": 0,
  "metadata": {
    "colab": {
      "provenance": [],
      "authorship_tag": "ABX9TyN294brsWvurnGd7KJCJvGL",
      "include_colab_link": true
    },
    "kernelspec": {
      "name": "python3",
      "display_name": "Python 3"
    },
    "language_info": {
      "name": "python"
    }
  },
  "cells": [
    {
      "cell_type": "markdown",
      "metadata": {
        "id": "view-in-github",
        "colab_type": "text"
      },
      "source": [
        "<a href=\"https://colab.research.google.com/github/cinamocha/studying-py/blob/main/seigyo.ipynb\" target=\"_parent\"><img src=\"https://colab.research.google.com/assets/colab-badge.svg\" alt=\"Open In Colab\"/></a>"
      ]
    },
    {
      "cell_type": "code",
      "execution_count": null,
      "metadata": {
        "colab": {
          "base_uri": "https://localhost:8080/"
        },
        "id": "ZpK-5nliIJdU",
        "outputId": "602e6047-17c2-4730-dac6-d9edd576dc1c"
      },
      "outputs": [
        {
          "output_type": "stream",
          "name": "stdout",
          "text": [
            "0より大きいです\n"
          ]
        }
      ],
      "source": [
        "x = 5\n",
        "\n",
        "if x < 0:\n",
        "  print('0より小さいです')\n",
        "\n",
        "elif x > 0:\n",
        "  print('0より大きいです')\n",
        "\n",
        "else :\n",
        "  print('0です')\n"
      ]
    },
    {
      "cell_type": "code",
      "source": [
        "#ifの下の半角空白4つ　＝　インデント"
      ],
      "metadata": {
        "id": "wo-Nl2C9Icgw"
      },
      "execution_count": null,
      "outputs": []
    },
    {
      "cell_type": "code",
      "source": [
        "#3で割り切れるときはFizz\n",
        "#5で割り切れるときはBuzz\n",
        "#3と5で割り切れるときはFizzBuzz\n",
        "#いずれにも該当しない場合はその数字を出力する"
      ],
      "metadata": {
        "id": "9CINLCUPIqYF"
      },
      "execution_count": null,
      "outputs": []
    },
    {
      "cell_type": "code",
      "source": [
        "x = input('数字を入力してください')\n",
        "y = int(x)"
      ],
      "metadata": {
        "colab": {
          "base_uri": "https://localhost:8080/"
        },
        "id": "jcQC8vBuKEf0",
        "outputId": "c495acc6-531a-4e1c-b0ad-bedc19b42470"
      },
      "execution_count": null,
      "outputs": [
        {
          "name": "stdout",
          "output_type": "stream",
          "text": [
            "数字を入力してください9\n"
          ]
        }
      ]
    },
    {
      "cell_type": "code",
      "source": [
        "if y % 3 ==0 and y % 5 ==0:\n",
        "  print('FizzBuzz')\n",
        "elif y % 3 ==0:\n",
        "  print('Fizz')\n",
        "elif y % 5 ==0:\n",
        "  print('Buzz')\n",
        "else:\n",
        "  print(y)"
      ],
      "metadata": {
        "colab": {
          "base_uri": "https://localhost:8080/"
        },
        "id": "gJ9AfRVoKTJZ",
        "outputId": "fec0cecd-660e-4e79-b048-357ab4231119"
      },
      "execution_count": null,
      "outputs": [
        {
          "output_type": "stream",
          "name": "stdout",
          "text": [
            "Fizz\n"
          ]
        }
      ]
    },
    {
      "cell_type": "code",
      "source": [
        "#自力でできた！！！！"
      ],
      "metadata": {
        "id": "CBtT71j0K0-t"
      },
      "execution_count": null,
      "outputs": []
    },
    {
      "cell_type": "code",
      "source": [
        "#3文字以上の文字列の時、その文字数を出力する\n",
        "a = input('文字を入力してください')\n",
        "b = len(a)\n",
        "if b > 3:\n",
        "  print(b)\n",
        "else:\n",
        "  print('もっと打て')"
      ],
      "metadata": {
        "colab": {
          "base_uri": "https://localhost:8080/"
        },
        "id": "Xj9dfJa2L9ha",
        "outputId": "8a9fa4dd-3632-4f6b-afe1-c768f601d1a7"
      },
      "execution_count": null,
      "outputs": [
        {
          "output_type": "stream",
          "name": "stdout",
          "text": [
            "文字を入力してくださいpypypyp\n",
            "7\n"
          ]
        }
      ]
    },
    {
      "cell_type": "code",
      "source": [
        "#セイウチ演算子？"
      ],
      "metadata": {
        "id": "czJYvIiXMhyD"
      },
      "execution_count": null,
      "outputs": []
    },
    {
      "cell_type": "code",
      "source": [
        "c = input()\n",
        "if (d := len(c)) > 3:\n",
        "  print(d)"
      ],
      "metadata": {
        "colab": {
          "base_uri": "https://localhost:8080/"
        },
        "id": "Ms5o84qSM3O7",
        "outputId": "bd1d83c8-92c6-4aef-9d9c-0365caed1bf5"
      },
      "execution_count": null,
      "outputs": [
        {
          "output_type": "stream",
          "name": "stdout",
          "text": [
            "Pythonnnnn\n",
            "10\n"
          ]
        }
      ]
    },
    {
      "cell_type": "code",
      "source": [
        "#for分で0から4を出力する"
      ],
      "metadata": {
        "id": "6tp1zxc_NH4g"
      },
      "execution_count": null,
      "outputs": []
    },
    {
      "cell_type": "code",
      "source": [
        "for i in range(5):\n",
        "  print(i)"
      ],
      "metadata": {
        "colab": {
          "base_uri": "https://localhost:8080/"
        },
        "id": "VHLZ2PDmN-Oh",
        "outputId": "ed3bf2e5-32c5-4d52-9e47-3903e048029f"
      },
      "execution_count": null,
      "outputs": [
        {
          "output_type": "stream",
          "name": "stdout",
          "text": [
            "0\n",
            "1\n",
            "2\n",
            "3\n",
            "4\n"
          ]
        }
      ]
    },
    {
      "cell_type": "code",
      "source": [
        "#おおおおおおお"
      ],
      "metadata": {
        "id": "nln44RogOFvc"
      },
      "execution_count": null,
      "outputs": []
    },
    {
      "cell_type": "code",
      "source": [
        "for I in range(1,8,2):\n",
        "  print(I)"
      ],
      "metadata": {
        "colab": {
          "base_uri": "https://localhost:8080/"
        },
        "id": "4tZktb9-OHei",
        "outputId": "44c236f8-2de8-484d-addf-eff456cf1619"
      },
      "execution_count": null,
      "outputs": [
        {
          "output_type": "stream",
          "name": "stdout",
          "text": [
            "1\n",
            "3\n",
            "5\n",
            "7\n"
          ]
        }
      ]
    },
    {
      "cell_type": "code",
      "source": [
        "#(1,8,2)の意味は1から8の一つ手前までの数字を1つ飛ばしで"
      ],
      "metadata": {
        "id": "Sfg7mDovObox"
      },
      "execution_count": null,
      "outputs": []
    },
    {
      "cell_type": "code",
      "source": [
        "word = 'Python'\n",
        "for u in range(len(word)):\n",
        "  print(word[u])"
      ],
      "metadata": {
        "colab": {
          "base_uri": "https://localhost:8080/"
        },
        "id": "zcQqmFogOq-s",
        "outputId": "1038781d-0ef7-4a47-aa3a-d9d8518512e9"
      },
      "execution_count": null,
      "outputs": [
        {
          "output_type": "stream",
          "name": "stdout",
          "text": [
            "P\n",
            "y\n",
            "t\n",
            "h\n",
            "o\n",
            "n\n"
          ]
        }
      ]
    },
    {
      "cell_type": "code",
      "source": [
        "#変数iの中に0を格納し、そのあと1を3回足し合わせる\n",
        "i = 0\n",
        "for i in range(3):\n",
        "  i = i + 1\n",
        "  print(i)"
      ],
      "metadata": {
        "colab": {
          "base_uri": "https://localhost:8080/"
        },
        "id": "2_Hia8sdPDq8",
        "outputId": "be0949fe-d086-45ce-9fd8-9a2df87e1d88"
      },
      "execution_count": null,
      "outputs": [
        {
          "output_type": "stream",
          "name": "stdout",
          "text": [
            "1\n",
            "2\n",
            "3\n"
          ]
        }
      ]
    },
    {
      "cell_type": "code",
      "source": [
        "i = 0\n",
        "while i < 4:\n",
        "  i = i + 1\n",
        "  print(i)"
      ],
      "metadata": {
        "colab": {
          "base_uri": "https://localhost:8080/"
        },
        "id": "lIf8JISjQDFC",
        "outputId": "c6723487-0295-49ef-d761-5ad0a08ea098"
      },
      "execution_count": null,
      "outputs": [
        {
          "output_type": "stream",
          "name": "stdout",
          "text": [
            "1\n",
            "2\n",
            "3\n",
            "4\n"
          ]
        }
      ]
    },
    {
      "cell_type": "code",
      "source": [
        "m = 0\n",
        "while m < 100:\n",
        "  m += 1\n",
        "  print(m)"
      ],
      "metadata": {
        "colab": {
          "base_uri": "https://localhost:8080/"
        },
        "id": "H7Xyn5zjQV9W",
        "outputId": "f41c2213-9232-46f4-c230-614e47f57331"
      },
      "execution_count": null,
      "outputs": [
        {
          "output_type": "stream",
          "name": "stdout",
          "text": [
            "1\n",
            "2\n",
            "3\n",
            "4\n",
            "5\n",
            "6\n",
            "7\n",
            "8\n",
            "9\n",
            "10\n",
            "11\n",
            "12\n",
            "13\n",
            "14\n",
            "15\n",
            "16\n",
            "17\n",
            "18\n",
            "19\n",
            "20\n",
            "21\n",
            "22\n",
            "23\n",
            "24\n",
            "25\n",
            "26\n",
            "27\n",
            "28\n",
            "29\n",
            "30\n",
            "31\n",
            "32\n",
            "33\n",
            "34\n",
            "35\n",
            "36\n",
            "37\n",
            "38\n",
            "39\n",
            "40\n",
            "41\n",
            "42\n",
            "43\n",
            "44\n",
            "45\n",
            "46\n",
            "47\n",
            "48\n",
            "49\n",
            "50\n",
            "51\n",
            "52\n",
            "53\n",
            "54\n",
            "55\n",
            "56\n",
            "57\n",
            "58\n",
            "59\n",
            "60\n",
            "61\n",
            "62\n",
            "63\n",
            "64\n",
            "65\n",
            "66\n",
            "67\n",
            "68\n",
            "69\n",
            "70\n",
            "71\n",
            "72\n",
            "73\n",
            "74\n",
            "75\n",
            "76\n",
            "77\n",
            "78\n",
            "79\n",
            "80\n",
            "81\n",
            "82\n",
            "83\n",
            "84\n",
            "85\n",
            "86\n",
            "87\n",
            "88\n",
            "89\n",
            "90\n",
            "91\n",
            "92\n",
            "93\n",
            "94\n",
            "95\n",
            "96\n",
            "97\n",
            "98\n",
            "99\n",
            "100\n"
          ]
        }
      ]
    },
    {
      "cell_type": "code",
      "source": [
        "m = 0\n",
        "while m < 100:\n",
        "  if m == 30:\n",
        "    break\n",
        "  print(m)\n",
        "  m += 1"
      ],
      "metadata": {
        "colab": {
          "base_uri": "https://localhost:8080/"
        },
        "id": "D8gFCZq4Q6hs",
        "outputId": "cd64edd2-f473-436a-8a05-08a55558f3e7"
      },
      "execution_count": null,
      "outputs": [
        {
          "output_type": "stream",
          "name": "stdout",
          "text": [
            "0\n",
            "1\n",
            "2\n",
            "3\n",
            "4\n",
            "5\n",
            "6\n",
            "7\n",
            "8\n",
            "9\n",
            "10\n",
            "11\n",
            "12\n",
            "13\n",
            "14\n",
            "15\n",
            "16\n",
            "17\n",
            "18\n",
            "19\n",
            "20\n",
            "21\n",
            "22\n",
            "23\n",
            "24\n",
            "25\n",
            "26\n",
            "27\n",
            "28\n",
            "29\n"
          ]
        }
      ]
    },
    {
      "cell_type": "code",
      "source": [
        "num = 1\n",
        "match num:\n",
        "  case 1 :\n",
        "    print('1です')\n",
        "  case 2 :\n",
        "    print('2です')\n",
        "  case _ :\n",
        "    print('その他です')"
      ],
      "metadata": {
        "colab": {
          "base_uri": "https://localhost:8080/"
        },
        "id": "5DQyFYSuRNAA",
        "outputId": "215f348b-ce0c-476c-93de-219959b9eb3f"
      },
      "execution_count": null,
      "outputs": [
        {
          "output_type": "stream",
          "name": "stdout",
          "text": [
            "1です\n"
          ]
        }
      ]
    },
    {
      "cell_type": "code",
      "source": [],
      "metadata": {
        "id": "C7LznDJAR7Cy"
      },
      "execution_count": null,
      "outputs": []
    }
  ]
}