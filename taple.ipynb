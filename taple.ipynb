{
  "nbformat": 4,
  "nbformat_minor": 0,
  "metadata": {
    "colab": {
      "provenance": [],
      "authorship_tag": "ABX9TyOk+xmrIqYnKp3N3+ppeVV4",
      "include_colab_link": true
    },
    "kernelspec": {
      "name": "python3",
      "display_name": "Python 3"
    },
    "language_info": {
      "name": "python"
    }
  },
  "cells": [
    {
      "cell_type": "markdown",
      "metadata": {
        "id": "view-in-github",
        "colab_type": "text"
      },
      "source": [
        "<a href=\"https://colab.research.google.com/github/cinamocha/studying-py/blob/main/taple.ipynb\" target=\"_parent\"><img src=\"https://colab.research.google.com/assets/colab-badge.svg\" alt=\"Open In Colab\"/></a>"
      ]
    },
    {
      "cell_type": "code",
      "execution_count": 1,
      "metadata": {
        "colab": {
          "base_uri": "https://localhost:8080/"
        },
        "id": "120myGh0dU6A",
        "outputId": "a96f29e6-d46e-4776-c1f7-72ea7376b048"
      },
      "outputs": [
        {
          "output_type": "stream",
          "name": "stdout",
          "text": [
            "(1, 2, 3)\n",
            "<class 'tuple'>\n"
          ]
        }
      ],
      "source": [
        "numbers = (1,2,3)\n",
        "\n",
        "print(numbers)\n",
        "\n",
        "print(type(numbers))"
      ]
    },
    {
      "cell_type": "code",
      "source": [
        "#タプルは要素の追加、変更ができない"
      ],
      "metadata": {
        "id": "i_OLR-iCdkW5"
      },
      "execution_count": 2,
      "outputs": []
    },
    {
      "cell_type": "code",
      "source": [
        "print(numbers[0])"
      ],
      "metadata": {
        "colab": {
          "base_uri": "https://localhost:8080/"
        },
        "id": "XzW9BHOcdsiu",
        "outputId": "fb510542-c7f6-48cb-ca1a-0e67d45ba082"
      },
      "execution_count": 3,
      "outputs": [
        {
          "output_type": "stream",
          "name": "stdout",
          "text": [
            "1\n"
          ]
        }
      ]
    },
    {
      "cell_type": "code",
      "source": [
        "numbers = (1,2)\n",
        "\n",
        "one, two = numbers\n",
        "\n",
        "print(one)\n",
        "print(two)"
      ],
      "metadata": {
        "colab": {
          "base_uri": "https://localhost:8080/"
        },
        "id": "yh5XGytleGKx",
        "outputId": "1b53c5e1-e1e6-48a4-e80b-2c5e0aec7402"
      },
      "execution_count": 4,
      "outputs": [
        {
          "output_type": "stream",
          "name": "stdout",
          "text": [
            "1\n",
            "2\n"
          ]
        }
      ]
    },
    {
      "cell_type": "code",
      "source": [
        "#dictionary"
      ],
      "metadata": {
        "id": "VIoxqWKmeW5R"
      },
      "execution_count": 5,
      "outputs": []
    },
    {
      "cell_type": "code",
      "source": [
        "#インデックスではなくキーで管理する\n",
        "\n",
        "fruits = {'apple': 100 , 'banana': 120}\n",
        "\n",
        "print(fruits)"
      ],
      "metadata": {
        "colab": {
          "base_uri": "https://localhost:8080/"
        },
        "id": "ue2lCnBXec0O",
        "outputId": "b9ff0014-210c-47b3-dfee-f19320d28db7"
      },
      "execution_count": 6,
      "outputs": [
        {
          "output_type": "stream",
          "name": "stdout",
          "text": [
            "{'apple': 100, 'banana': 120}\n"
          ]
        }
      ]
    },
    {
      "cell_type": "code",
      "source": [
        "print(type(fruits))"
      ],
      "metadata": {
        "colab": {
          "base_uri": "https://localhost:8080/"
        },
        "id": "DOs5xP1Oe20M",
        "outputId": "3869ec63-1b20-45e2-a895-9e7bb6c08abb"
      },
      "execution_count": 7,
      "outputs": [
        {
          "output_type": "stream",
          "name": "stdout",
          "text": [
            "<class 'dict'>\n"
          ]
        }
      ]
    },
    {
      "cell_type": "code",
      "source": [
        "#appleがkey,100がvalue"
      ],
      "metadata": {
        "id": "VNvoc2aAe6GD"
      },
      "execution_count": 8,
      "outputs": []
    },
    {
      "cell_type": "code",
      "source": [
        "print(fruits['apple'])"
      ],
      "metadata": {
        "colab": {
          "base_uri": "https://localhost:8080/"
        },
        "id": "79_lX_6Ye_eP",
        "outputId": "12cebb85-d853-4999-9e28-f585a03bef44"
      },
      "execution_count": 9,
      "outputs": [
        {
          "output_type": "stream",
          "name": "stdout",
          "text": [
            "100\n"
          ]
        }
      ]
    },
    {
      "cell_type": "code",
      "source": [
        "fruits['banana'] = 150\n",
        "\n",
        "print(fruits)"
      ],
      "metadata": {
        "colab": {
          "base_uri": "https://localhost:8080/"
        },
        "id": "oez6M9n3fIvr",
        "outputId": "3fd0ba5f-08fa-4010-fc93-0900c85e9e68"
      },
      "execution_count": 10,
      "outputs": [
        {
          "output_type": "stream",
          "name": "stdout",
          "text": [
            "{'apple': 100, 'banana': 150}\n"
          ]
        }
      ]
    },
    {
      "cell_type": "code",
      "source": [
        "#キーの追加\n",
        "\n",
        "fruits['peach'] = 180"
      ],
      "metadata": {
        "id": "vxguafUkfZxK"
      },
      "execution_count": 14,
      "outputs": []
    },
    {
      "cell_type": "code",
      "source": [
        "print(fruits)"
      ],
      "metadata": {
        "colab": {
          "base_uri": "https://localhost:8080/"
        },
        "id": "Fr7wg0czfkKU",
        "outputId": "3a92d181-d15a-4adb-c1de-f6ba35054032"
      },
      "execution_count": 15,
      "outputs": [
        {
          "output_type": "stream",
          "name": "stdout",
          "text": [
            "{'apple': 100, 'banana': 150, 'peach': 180}\n"
          ]
        }
      ]
    },
    {
      "cell_type": "code",
      "source": [
        "print(fruits.keys())"
      ],
      "metadata": {
        "colab": {
          "base_uri": "https://localhost:8080/"
        },
        "id": "2mxN_xU-f9fY",
        "outputId": "2a6424b3-acca-4240-a3fc-d16211f07ac6"
      },
      "execution_count": 16,
      "outputs": [
        {
          "output_type": "stream",
          "name": "stdout",
          "text": [
            "dict_keys(['apple', 'banana', 'peach'])\n"
          ]
        }
      ]
    },
    {
      "cell_type": "code",
      "source": [
        "for key in fruits.keys():\n",
        "  print(key)"
      ],
      "metadata": {
        "colab": {
          "base_uri": "https://localhost:8080/"
        },
        "id": "0wCFDY0AgLda",
        "outputId": "dba19a46-3d9c-44ed-9d60-9f487774fbc0"
      },
      "execution_count": 17,
      "outputs": [
        {
          "output_type": "stream",
          "name": "stdout",
          "text": [
            "apple\n",
            "banana\n",
            "peach\n"
          ]
        }
      ]
    },
    {
      "cell_type": "code",
      "source": [
        "for value in fruits.values():\n",
        "  print(value)"
      ],
      "metadata": {
        "colab": {
          "base_uri": "https://localhost:8080/"
        },
        "id": "LbLuJZnXgWUF",
        "outputId": "c3f04ef5-119c-4250-d4b4-00db9371c67f"
      },
      "execution_count": 19,
      "outputs": [
        {
          "output_type": "stream",
          "name": "stdout",
          "text": [
            "100\n",
            "150\n",
            "180\n"
          ]
        }
      ]
    },
    {
      "cell_type": "code",
      "source": [
        "for key , value in fruits.items():\n",
        "  print(key,value)"
      ],
      "metadata": {
        "colab": {
          "base_uri": "https://localhost:8080/"
        },
        "id": "ab_4hq5PgdG9",
        "outputId": "77296db9-f664-4ebb-d9eb-2e7dd26115f0"
      },
      "execution_count": 21,
      "outputs": [
        {
          "output_type": "stream",
          "name": "stdout",
          "text": [
            "apple 100\n",
            "banana 150\n",
            "peach 180\n"
          ]
        }
      ]
    },
    {
      "cell_type": "code",
      "source": [
        "fruits.items()"
      ],
      "metadata": {
        "colab": {
          "base_uri": "https://localhost:8080/"
        },
        "id": "pzDOZOhPgx8c",
        "outputId": "d836f800-fa9d-43bc-c768-b040fd36b15e"
      },
      "execution_count": 22,
      "outputs": [
        {
          "output_type": "execute_result",
          "data": {
            "text/plain": [
              "dict_items([('apple', 100), ('banana', 150), ('peach', 180)])"
            ]
          },
          "metadata": {},
          "execution_count": 22
        }
      ]
    },
    {
      "cell_type": "code",
      "source": [
        "fruits.get('apple')"
      ],
      "metadata": {
        "colab": {
          "base_uri": "https://localhost:8080/"
        },
        "id": "4WwbfU1eg4cU",
        "outputId": "e4f05f23-d87a-468e-bf23-f7ef977eec85"
      },
      "execution_count": 23,
      "outputs": [
        {
          "output_type": "execute_result",
          "data": {
            "text/plain": [
              "100"
            ]
          },
          "metadata": {},
          "execution_count": 23
        }
      ]
    },
    {
      "cell_type": "code",
      "source": [
        "print(fruits.get('grape'))"
      ],
      "metadata": {
        "colab": {
          "base_uri": "https://localhost:8080/"
        },
        "id": "9HROp90NhHIa",
        "outputId": "45778e11-e300-4e85-fb3d-45798183bee8"
      },
      "execution_count": 25,
      "outputs": [
        {
          "output_type": "stream",
          "name": "stdout",
          "text": [
            "None\n"
          ]
        }
      ]
    },
    {
      "cell_type": "code",
      "source": [
        "#getメソッドを使うと指定したキーが存在しない場合Noneが返ってくる"
      ],
      "metadata": {
        "id": "xlyEYJ66hLrg"
      },
      "execution_count": 26,
      "outputs": []
    },
    {
      "cell_type": "code",
      "source": [
        "fruits2 = {'banana': 200 , 'grape': 250}\n",
        "fruits.update(fruits2)"
      ],
      "metadata": {
        "id": "XdVUmuNxhixf"
      },
      "execution_count": 28,
      "outputs": []
    },
    {
      "cell_type": "code",
      "source": [
        "print(fruits)"
      ],
      "metadata": {
        "colab": {
          "base_uri": "https://localhost:8080/"
        },
        "id": "9TZRdzwcifNt",
        "outputId": "e4b366a2-a04f-49e6-b2df-e74d80cbe5b5"
      },
      "execution_count": 29,
      "outputs": [
        {
          "output_type": "stream",
          "name": "stdout",
          "text": [
            "{'apple': 100, 'banana': 200, 'peach': 180, 'grape': 250}\n"
          ]
        }
      ]
    },
    {
      "cell_type": "code",
      "source": [
        "fruits['grape'] = 300"
      ],
      "metadata": {
        "id": "jbuNlnaNii0V"
      },
      "execution_count": 30,
      "outputs": []
    },
    {
      "cell_type": "code",
      "source": [
        "print(fruits)"
      ],
      "metadata": {
        "colab": {
          "base_uri": "https://localhost:8080/"
        },
        "id": "QEbswj9tin6k",
        "outputId": "84ac8eb3-ec6b-4e26-e63c-bea12b1d3e03"
      },
      "execution_count": 31,
      "outputs": [
        {
          "output_type": "stream",
          "name": "stdout",
          "text": [
            "{'apple': 100, 'banana': 200, 'peach': 180, 'grape': 300}\n"
          ]
        }
      ]
    },
    {
      "cell_type": "code",
      "source": [
        "fruits.pop('apple')"
      ],
      "metadata": {
        "colab": {
          "base_uri": "https://localhost:8080/"
        },
        "id": "ATKN_gyGipfd",
        "outputId": "57ae7614-1a15-4acf-c585-99de6eae958e"
      },
      "execution_count": 32,
      "outputs": [
        {
          "output_type": "execute_result",
          "data": {
            "text/plain": [
              "100"
            ]
          },
          "metadata": {},
          "execution_count": 32
        }
      ]
    },
    {
      "cell_type": "code",
      "source": [
        "print(fruits)"
      ],
      "metadata": {
        "colab": {
          "base_uri": "https://localhost:8080/"
        },
        "id": "MGNJpateixMW",
        "outputId": "1105c5d9-7d82-4eef-b528-037d7a05aef0"
      },
      "execution_count": 33,
      "outputs": [
        {
          "output_type": "stream",
          "name": "stdout",
          "text": [
            "{'banana': 200, 'peach': 180, 'grape': 300}\n"
          ]
        }
      ]
    },
    {
      "cell_type": "code",
      "source": [
        "#popメソッドは削除ではなく、取り出してるだけ"
      ],
      "metadata": {
        "id": "Ixehdb3bizzW"
      },
      "execution_count": 34,
      "outputs": []
    },
    {
      "cell_type": "code",
      "source": [
        "del fruits['grape']"
      ],
      "metadata": {
        "id": "QWzMw7xEi9Sh"
      },
      "execution_count": 35,
      "outputs": []
    },
    {
      "cell_type": "code",
      "source": [
        "print(fruits)"
      ],
      "metadata": {
        "colab": {
          "base_uri": "https://localhost:8080/"
        },
        "id": "wI-YfI-gjJMr",
        "outputId": "4ab45f09-5b2c-4393-a1f2-f651c7ab10ac"
      },
      "execution_count": 36,
      "outputs": [
        {
          "output_type": "stream",
          "name": "stdout",
          "text": [
            "{'banana': 200, 'peach': 180}\n"
          ]
        }
      ]
    },
    {
      "cell_type": "code",
      "source": [],
      "metadata": {
        "id": "GaEVCSbLjKyo"
      },
      "execution_count": null,
      "outputs": []
    }
  ]
}