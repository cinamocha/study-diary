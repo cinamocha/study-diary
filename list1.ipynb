{
  "nbformat": 4,
  "nbformat_minor": 0,
  "metadata": {
    "colab": {
      "provenance": [],
      "authorship_tag": "ABX9TyPHcsPyGeCdUmWs+iBQDUIu",
      "include_colab_link": true
    },
    "kernelspec": {
      "name": "python3",
      "display_name": "Python 3"
    },
    "language_info": {
      "name": "python"
    }
  },
  "cells": [
    {
      "cell_type": "markdown",
      "metadata": {
        "id": "view-in-github",
        "colab_type": "text"
      },
      "source": [
        "<a href=\"https://colab.research.google.com/github/cinamocha/studying-py/blob/main/list1.ipynb\" target=\"_parent\"><img src=\"https://colab.research.google.com/assets/colab-badge.svg\" alt=\"Open In Colab\"/></a>"
      ]
    },
    {
      "cell_type": "code",
      "execution_count": 1,
      "metadata": {
        "id": "VyD4oLhtEQBc"
      },
      "outputs": [],
      "source": [
        "numbers = [1,2,3,4,5]"
      ]
    },
    {
      "cell_type": "code",
      "source": [
        "print(numbers)\n",
        "\n",
        "print(type(numbers))"
      ],
      "metadata": {
        "colab": {
          "base_uri": "https://localhost:8080/"
        },
        "id": "LCKTKmxBEd9I",
        "outputId": "bbe2e629-8c92-4d33-ab24-058d4f51ecbe"
      },
      "execution_count": 2,
      "outputs": [
        {
          "output_type": "stream",
          "name": "stdout",
          "text": [
            "[1, 2, 3, 4, 5]\n",
            "<class 'list'>\n"
          ]
        }
      ]
    },
    {
      "cell_type": "code",
      "source": [
        "languages = ['Python','Java','Golang']\n",
        "\n",
        "print(languages)"
      ],
      "metadata": {
        "colab": {
          "base_uri": "https://localhost:8080/"
        },
        "id": "3ZHO5lvrEmfx",
        "outputId": "2657e851-2024-46ca-c916-b781d35e5931"
      },
      "execution_count": 3,
      "outputs": [
        {
          "output_type": "stream",
          "name": "stdout",
          "text": [
            "['Python', 'Java', 'Golang']\n"
          ]
        }
      ]
    },
    {
      "cell_type": "code",
      "source": [
        "mix = [1,'Python',True,-33]"
      ],
      "metadata": {
        "id": "ln-pZF3DE2db"
      },
      "execution_count": 4,
      "outputs": []
    },
    {
      "cell_type": "code",
      "source": [
        "print(mix)"
      ],
      "metadata": {
        "colab": {
          "base_uri": "https://localhost:8080/"
        },
        "id": "7nAebd4ZE-vO",
        "outputId": "d022879e-7863-4ae1-f1c3-d111ac72319e"
      },
      "execution_count": 5,
      "outputs": [
        {
          "output_type": "stream",
          "name": "stdout",
          "text": [
            "[1, 'Python', True, -33]\n"
          ]
        }
      ]
    },
    {
      "cell_type": "code",
      "source": [
        "print(mix[0])"
      ],
      "metadata": {
        "colab": {
          "base_uri": "https://localhost:8080/"
        },
        "id": "jYTFBfguFAAF",
        "outputId": "387b3066-7851-4e8e-899f-a2447adfcefe"
      },
      "execution_count": 6,
      "outputs": [
        {
          "output_type": "stream",
          "name": "stdout",
          "text": [
            "1\n"
          ]
        }
      ]
    },
    {
      "cell_type": "code",
      "source": [
        "#存在しないインデックス\n",
        "print(mix[4])"
      ],
      "metadata": {
        "colab": {
          "base_uri": "https://localhost:8080/",
          "height": 159
        },
        "id": "d0N40g8IFNLe",
        "outputId": "c00b9444-d47a-45ab-b1fc-0d259536ffc6"
      },
      "execution_count": 7,
      "outputs": [
        {
          "output_type": "error",
          "ename": "IndexError",
          "evalue": "list index out of range",
          "traceback": [
            "\u001b[0;31m---------------------------------------------------------------------------\u001b[0m",
            "\u001b[0;31mIndexError\u001b[0m                                Traceback (most recent call last)",
            "\u001b[0;32m<ipython-input-7-a6db3e65ab10>\u001b[0m in \u001b[0;36m<cell line: 2>\u001b[0;34m()\u001b[0m\n\u001b[1;32m      1\u001b[0m \u001b[0;31m#存在しないインデックス\u001b[0m\u001b[0;34m\u001b[0m\u001b[0;34m\u001b[0m\u001b[0m\n\u001b[0;32m----> 2\u001b[0;31m \u001b[0mprint\u001b[0m\u001b[0;34m(\u001b[0m\u001b[0mmix\u001b[0m\u001b[0;34m[\u001b[0m\u001b[0;36m4\u001b[0m\u001b[0;34m]\u001b[0m\u001b[0;34m)\u001b[0m\u001b[0;34m\u001b[0m\u001b[0;34m\u001b[0m\u001b[0m\n\u001b[0m",
            "\u001b[0;31mIndexError\u001b[0m: list index out of range"
          ]
        }
      ]
    },
    {
      "cell_type": "code",
      "source": [
        "print(mix[0:3])"
      ],
      "metadata": {
        "colab": {
          "base_uri": "https://localhost:8080/"
        },
        "id": "eGPhxsU_FUBh",
        "outputId": "f886c2b8-749b-4236-cda7-33605d62be7b"
      },
      "execution_count": 8,
      "outputs": [
        {
          "output_type": "stream",
          "name": "stdout",
          "text": [
            "[1, 'Python', True]\n"
          ]
        }
      ]
    },
    {
      "cell_type": "code",
      "source": [
        "print(mix)\n",
        "\n",
        "for i in range(len(mix)):\n",
        "  print(mix[i])"
      ],
      "metadata": {
        "colab": {
          "base_uri": "https://localhost:8080/"
        },
        "id": "hF_FeE4bFfNq",
        "outputId": "0cbdba7e-679e-489f-d6cf-dfe881c94cc8"
      },
      "execution_count": 9,
      "outputs": [
        {
          "output_type": "stream",
          "name": "stdout",
          "text": [
            "[1, 'Python', True, -33]\n",
            "1\n",
            "Python\n",
            "True\n",
            "-33\n"
          ]
        }
      ]
    },
    {
      "cell_type": "code",
      "source": [
        "for v in mix:\n",
        "  print(v)"
      ],
      "metadata": {
        "colab": {
          "base_uri": "https://localhost:8080/"
        },
        "id": "nVYPMXbkF1RL",
        "outputId": "9854a51a-cdf2-4fa7-870c-c7325e5a974d"
      },
      "execution_count": 10,
      "outputs": [
        {
          "output_type": "stream",
          "name": "stdout",
          "text": [
            "1\n",
            "Python\n",
            "True\n",
            "-33\n"
          ]
        }
      ]
    },
    {
      "cell_type": "code",
      "source": [
        "#インデックスも同時に取得したい\n",
        "for i , v in enumerate(mix):\n",
        "  print(i , v)"
      ],
      "metadata": {
        "colab": {
          "base_uri": "https://localhost:8080/"
        },
        "id": "ilyIo_TMF8hl",
        "outputId": "dfe5d1c2-796e-465c-bf76-439302d3df49"
      },
      "execution_count": 11,
      "outputs": [
        {
          "output_type": "stream",
          "name": "stdout",
          "text": [
            "0 1\n",
            "1 Python\n",
            "2 True\n",
            "3 -33\n"
          ]
        }
      ]
    },
    {
      "cell_type": "code",
      "source": [
        "print(1 in mix)"
      ],
      "metadata": {
        "colab": {
          "base_uri": "https://localhost:8080/"
        },
        "id": "zNC3ZPL4GYgc",
        "outputId": "888c0aea-0fb2-46fa-faa0-5f22720a5282"
      },
      "execution_count": 12,
      "outputs": [
        {
          "output_type": "stream",
          "name": "stdout",
          "text": [
            "True\n"
          ]
        }
      ]
    },
    {
      "cell_type": "code",
      "source": [
        "print(22 in mix)"
      ],
      "metadata": {
        "colab": {
          "base_uri": "https://localhost:8080/"
        },
        "id": "gyn9wNEjGoPU",
        "outputId": "b6aebb15-9057-4c08-d222-82b4dd12141f"
      },
      "execution_count": 13,
      "outputs": [
        {
          "output_type": "stream",
          "name": "stdout",
          "text": [
            "False\n"
          ]
        }
      ]
    },
    {
      "cell_type": "code",
      "source": [
        "#文字列と似てる\n",
        "#リストは中身を書き換えられる"
      ],
      "metadata": {
        "id": "eNfxHrO5GqP_"
      },
      "execution_count": 17,
      "outputs": []
    },
    {
      "cell_type": "code",
      "source": [
        "mix[1] = 'Java'"
      ],
      "metadata": {
        "id": "crfclMBsGyRR"
      },
      "execution_count": 15,
      "outputs": []
    },
    {
      "cell_type": "code",
      "source": [
        "print(mix)"
      ],
      "metadata": {
        "colab": {
          "base_uri": "https://localhost:8080/"
        },
        "id": "80sbR505G3pG",
        "outputId": "524b9374-7366-49df-ead5-7cf4e727139d"
      },
      "execution_count": 16,
      "outputs": [
        {
          "output_type": "stream",
          "name": "stdout",
          "text": [
            "[1, 'Java', True, -33]\n"
          ]
        }
      ]
    },
    {
      "cell_type": "code",
      "source": [
        "numbers1 = [1,2,3,4,5]\n",
        "numbers2 = [6,7,8,9,10]\n",
        "print(numbers1 + numbers2)"
      ],
      "metadata": {
        "colab": {
          "base_uri": "https://localhost:8080/"
        },
        "id": "fI1SbMHlG43f",
        "outputId": "56be1181-c86d-4477-f393-2a144a082b94"
      },
      "execution_count": 18,
      "outputs": [
        {
          "output_type": "stream",
          "name": "stdout",
          "text": [
            "[1, 2, 3, 4, 5, 6, 7, 8, 9, 10]\n"
          ]
        }
      ]
    },
    {
      "cell_type": "code",
      "source": [
        "numbers1 * 2"
      ],
      "metadata": {
        "colab": {
          "base_uri": "https://localhost:8080/"
        },
        "id": "9E1rjJoKHQto",
        "outputId": "9a3a2f90-a8ce-48f9-9b2c-0f862aa9a80e"
      },
      "execution_count": 19,
      "outputs": [
        {
          "output_type": "execute_result",
          "data": {
            "text/plain": [
              "[1, 2, 3, 4, 5, 1, 2, 3, 4, 5]"
            ]
          },
          "metadata": {},
          "execution_count": 19
        }
      ]
    },
    {
      "cell_type": "code",
      "source": [
        "#0が10個入ったリストを作成する\n",
        "a = [0]\n",
        "print(a * 10)"
      ],
      "metadata": {
        "colab": {
          "base_uri": "https://localhost:8080/"
        },
        "id": "P2FvmOdtHXxv",
        "outputId": "44ffb6a8-109d-49a6-e246-92cfd8563e70"
      },
      "execution_count": 20,
      "outputs": [
        {
          "output_type": "stream",
          "name": "stdout",
          "text": [
            "[0, 0, 0, 0, 0, 0, 0, 0, 0, 0]\n"
          ]
        }
      ]
    },
    {
      "cell_type": "code",
      "source": [
        "print(numbers1)"
      ],
      "metadata": {
        "colab": {
          "base_uri": "https://localhost:8080/"
        },
        "id": "VTT17hdPHtFy",
        "outputId": "7489c4ff-5330-4995-9b55-f491635098a0"
      },
      "execution_count": 21,
      "outputs": [
        {
          "output_type": "stream",
          "name": "stdout",
          "text": [
            "[1, 2, 3, 4, 5]\n"
          ]
        }
      ]
    },
    {
      "cell_type": "code",
      "source": [
        "#リストの追加メソッド\n",
        "\n",
        "numbers1.append(6)\n",
        "print(numbers1)"
      ],
      "metadata": {
        "colab": {
          "base_uri": "https://localhost:8080/"
        },
        "id": "R8QDGvLOH91V",
        "outputId": "e86871d3-894d-4348-cfc1-51d5ec2d1686"
      },
      "execution_count": 24,
      "outputs": [
        {
          "output_type": "stream",
          "name": "stdout",
          "text": [
            "[1, 2, 3, 4, 5, 6, 6, 6]\n"
          ]
        }
      ]
    },
    {
      "cell_type": "code",
      "source": [
        "num = []\n",
        "\n",
        "for i in range(5):\n",
        "  num.append(i*2)\n",
        "\n",
        "print(num)"
      ],
      "metadata": {
        "colab": {
          "base_uri": "https://localhost:8080/"
        },
        "id": "wBBYiy12ID_c",
        "outputId": "543081e5-0d87-4792-8518-664e0362b0b2"
      },
      "execution_count": 25,
      "outputs": [
        {
          "output_type": "stream",
          "name": "stdout",
          "text": [
            "[0, 2, 4, 6, 8]\n"
          ]
        }
      ]
    },
    {
      "cell_type": "code",
      "source": [
        "print(numbers1)"
      ],
      "metadata": {
        "colab": {
          "base_uri": "https://localhost:8080/"
        },
        "id": "hBs8BSs1Ihaa",
        "outputId": "3a619f0e-e228-4e87-c1e0-70f00c9e59cb"
      },
      "execution_count": 26,
      "outputs": [
        {
          "output_type": "stream",
          "name": "stdout",
          "text": [
            "[1, 2, 3, 4, 5, 6, 6, 6]\n"
          ]
        }
      ]
    },
    {
      "cell_type": "code",
      "source": [
        "print(numbers2)"
      ],
      "metadata": {
        "colab": {
          "base_uri": "https://localhost:8080/"
        },
        "id": "vyL570nqI0BJ",
        "outputId": "82b7dce0-a8b1-4d37-a799-ed9bd7210779"
      },
      "execution_count": 27,
      "outputs": [
        {
          "output_type": "stream",
          "name": "stdout",
          "text": [
            "[6, 7, 8, 9, 10]\n"
          ]
        }
      ]
    },
    {
      "cell_type": "code",
      "source": [
        "#リストの拡張\n",
        "\n",
        "numbers1.extend(numbers2)"
      ],
      "metadata": {
        "id": "7nCvZNIMI8Ht"
      },
      "execution_count": 29,
      "outputs": []
    },
    {
      "cell_type": "code",
      "source": [
        "print(numbers1)"
      ],
      "metadata": {
        "colab": {
          "base_uri": "https://localhost:8080/"
        },
        "id": "1asJmDZNJHbO",
        "outputId": "cd5b6fa9-5497-4b31-c9a8-d6a98fe7aa9a"
      },
      "execution_count": 31,
      "outputs": [
        {
          "output_type": "stream",
          "name": "stdout",
          "text": [
            "[1, 2, 3, 4, 5, 6, 6, 6, 6, 7, 8, 9, 10, 6, 7, 8, 9, 10]\n"
          ]
        }
      ]
    },
    {
      "cell_type": "code",
      "source": [
        "#2回実行しちゃった"
      ],
      "metadata": {
        "id": "6AEzDHh5JU8D"
      },
      "execution_count": 32,
      "outputs": []
    },
    {
      "cell_type": "code",
      "source": [
        "#削除したい！\n",
        "numbers1.remove(6)"
      ],
      "metadata": {
        "id": "5bp_K9EXJa9u"
      },
      "execution_count": 35,
      "outputs": []
    },
    {
      "cell_type": "code",
      "source": [
        "print(numbers1)"
      ],
      "metadata": {
        "colab": {
          "base_uri": "https://localhost:8080/"
        },
        "id": "TNp2G7vlJxRD",
        "outputId": "5a238399-c124-4028-b9c0-0e6ce615d952"
      },
      "execution_count": 36,
      "outputs": [
        {
          "output_type": "stream",
          "name": "stdout",
          "text": [
            "[1, 2, 3, 4, 5, 6, 6, 6, 7, 8, 9, 10, 6, 7, 8, 9, 10]\n"
          ]
        }
      ]
    },
    {
      "cell_type": "code",
      "source": [
        "#最初の6が1個だけ消えた"
      ],
      "metadata": {
        "id": "WdOwU9CHKA2c"
      },
      "execution_count": 37,
      "outputs": []
    },
    {
      "cell_type": "code",
      "source": [
        "o = []\n",
        "for i in range(0,4+1):\n",
        "  o.append(i)\n",
        "print(o)"
      ],
      "metadata": {
        "colab": {
          "base_uri": "https://localhost:8080/"
        },
        "id": "YFgjCKJEKF3E",
        "outputId": "01ec3a46-a63a-4065-a23f-59595df1087a"
      },
      "execution_count": 39,
      "outputs": [
        {
          "output_type": "stream",
          "name": "stdout",
          "text": [
            "[0, 1, 2, 3, 4]\n"
          ]
        }
      ]
    },
    {
      "cell_type": "code",
      "source": [
        "#内包表記\n",
        "o = [i for i in range(5)]\n",
        "print(o)"
      ],
      "metadata": {
        "colab": {
          "base_uri": "https://localhost:8080/"
        },
        "id": "pd42HJ4nKy2W",
        "outputId": "5a74facd-d57c-40a9-d51b-9b2a8f1c272a"
      },
      "execution_count": 40,
      "outputs": [
        {
          "output_type": "stream",
          "name": "stdout",
          "text": [
            "[0, 1, 2, 3, 4]\n"
          ]
        }
      ]
    },
    {
      "cell_type": "code",
      "source": [
        "#処理時間を比べる\n",
        "%%timeit\n",
        "numbers4 = []\n",
        "\n",
        "for i in range(10000):\n",
        "  numbers4.append(i)"
      ],
      "metadata": {
        "colab": {
          "base_uri": "https://localhost:8080/"
        },
        "id": "O4G3lq8lLIy2",
        "outputId": "3c590315-d3a5-4ecb-adb7-45a383556f1e"
      },
      "execution_count": 41,
      "outputs": [
        {
          "output_type": "stream",
          "name": "stdout",
          "text": [
            "932 µs ± 262 µs per loop (mean ± std. dev. of 7 runs, 1000 loops each)\n"
          ]
        }
      ]
    },
    {
      "cell_type": "code",
      "source": [
        "%%timeit\n",
        "number5 = [i for i in range(10000)]"
      ],
      "metadata": {
        "colab": {
          "base_uri": "https://localhost:8080/"
        },
        "id": "mmnDCRT9Ltba",
        "outputId": "cba1e166-f44a-4dba-8a8d-a19cab7748ed"
      },
      "execution_count": 42,
      "outputs": [
        {
          "output_type": "stream",
          "name": "stdout",
          "text": [
            "416 µs ± 13.6 µs per loop (mean ± std. dev. of 7 runs, 1000 loops each)\n"
          ]
        }
      ]
    },
    {
      "cell_type": "code",
      "source": [
        "#早い"
      ],
      "metadata": {
        "id": "XamG1zbNMD0B"
      },
      "execution_count": 43,
      "outputs": []
    },
    {
      "cell_type": "code",
      "source": [
        "#変数appleから10以上30未満の値だけ抽出したリストを内包表記で作成\n",
        "apple = [20 , 58 , 19 , 4 , 29 , 31 , 5 , 1 , 39 ,13 , 30]\n",
        "\n",
        "new_apple = [b for b in apple if 10 <= b <= 30]\n",
        "print(new_apple)"
      ],
      "metadata": {
        "colab": {
          "base_uri": "https://localhost:8080/"
        },
        "id": "OsgvzNBgNjT7",
        "outputId": "5b4ee778-e9c3-4e62-cd85-8874107513ff"
      },
      "execution_count": 49,
      "outputs": [
        {
          "output_type": "stream",
          "name": "stdout",
          "text": [
            "[20, 19, 29, 13, 30]\n"
          ]
        }
      ]
    },
    {
      "cell_type": "code",
      "source": [
        "#自力じゃ解けなかった"
      ],
      "metadata": {
        "id": "NdNjnti0OQOp"
      },
      "execution_count": 50,
      "outputs": []
    },
    {
      "cell_type": "code",
      "source": [],
      "metadata": {
        "id": "Y6s9fN_aOWmd"
      },
      "execution_count": null,
      "outputs": []
    }
  ]
}