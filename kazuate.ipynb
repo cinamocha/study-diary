{
  "nbformat": 4,
  "nbformat_minor": 0,
  "metadata": {
    "colab": {
      "provenance": [],
      "authorship_tag": "ABX9TyMlYVRVZly5PBClLHljhX/W",
      "include_colab_link": true
    },
    "kernelspec": {
      "name": "python3",
      "display_name": "Python 3"
    },
    "language_info": {
      "name": "python"
    }
  },
  "cells": [
    {
      "cell_type": "markdown",
      "metadata": {
        "id": "view-in-github",
        "colab_type": "text"
      },
      "source": [
        "<a href=\"https://colab.research.google.com/github/cinamocha/studying-py/blob/main/kazuate.ipynb\" target=\"_parent\"><img src=\"https://colab.research.google.com/assets/colab-badge.svg\" alt=\"Open In Colab\"/></a>"
      ]
    },
    {
      "cell_type": "code",
      "execution_count": 1,
      "metadata": {
        "colab": {
          "base_uri": "https://localhost:8080/",
          "height": 53
        },
        "id": "M8yS_Om1K-IN",
        "outputId": "8fe2b29b-44a4-4a2a-cdb2-a3d25c7d0073"
      },
      "outputs": [
        {
          "name": "stdout",
          "output_type": "stream",
          "text": [
            "1から1000の数字を入力してください！5\n"
          ]
        },
        {
          "output_type": "execute_result",
          "data": {
            "text/plain": [
              "'5'"
            ],
            "application/vnd.google.colaboratory.intrinsic+json": {
              "type": "string"
            }
          },
          "metadata": {},
          "execution_count": 1
        }
      ],
      "source": [
        "import random\n",
        "\n",
        "#ランダムな数字の生成\n",
        "number = random.randint(1,1000)\n",
        "kai = 0\n",
        "\n",
        "input('1から1000の数字を入力してください！')\n",
        "\n"
      ]
    },
    {
      "cell_type": "code",
      "source": [
        "import random\n",
        "\n",
        "#ランダムな数字の生成\n",
        "number = random.randint(1,1000)\n",
        "kaisuu = 0\n",
        "\n",
        "#予想の入力\n",
        "guess = input('1から1000の数字を入力してください！')\n",
        "\n",
        "#結果\n",
        "if guess < number:\n",
        "  print('もっと大きい数です！')\n",
        "\n",
        "elif guess > number:\n",
        "  print('もっと小さい数です！')\n",
        "\n",
        "else:\n",
        "  print('正解です！')\n",
        "\n",
        "\n",
        "\n",
        "\n"
      ],
      "metadata": {
        "colab": {
          "base_uri": "https://localhost:8080/",
          "height": 228
        },
        "id": "jlzPka9qMMTK",
        "outputId": "b703e727-b7f8-4345-8882-b962a70e76f4"
      },
      "execution_count": 2,
      "outputs": [
        {
          "name": "stdout",
          "output_type": "stream",
          "text": [
            "1から1000の数字を入力してください！500\n"
          ]
        },
        {
          "output_type": "error",
          "ename": "TypeError",
          "evalue": "'<' not supported between instances of 'str' and 'int'",
          "traceback": [
            "\u001b[0;31m---------------------------------------------------------------------------\u001b[0m",
            "\u001b[0;31mTypeError\u001b[0m                                 Traceback (most recent call last)",
            "\u001b[0;32m<ipython-input-2-a0694c44a8a4>\u001b[0m in \u001b[0;36m<cell line: 11>\u001b[0;34m()\u001b[0m\n\u001b[1;32m      9\u001b[0m \u001b[0;34m\u001b[0m\u001b[0m\n\u001b[1;32m     10\u001b[0m \u001b[0;31m#結果\u001b[0m\u001b[0;34m\u001b[0m\u001b[0;34m\u001b[0m\u001b[0m\n\u001b[0;32m---> 11\u001b[0;31m \u001b[0;32mif\u001b[0m \u001b[0mguess\u001b[0m \u001b[0;34m<\u001b[0m \u001b[0mnumber\u001b[0m\u001b[0;34m:\u001b[0m\u001b[0;34m\u001b[0m\u001b[0;34m\u001b[0m\u001b[0m\n\u001b[0m\u001b[1;32m     12\u001b[0m   \u001b[0mprint\u001b[0m\u001b[0;34m(\u001b[0m\u001b[0;34m'もっと大きい数です！'\u001b[0m\u001b[0;34m)\u001b[0m\u001b[0;34m\u001b[0m\u001b[0;34m\u001b[0m\u001b[0m\n\u001b[1;32m     13\u001b[0m \u001b[0;34m\u001b[0m\u001b[0m\n",
            "\u001b[0;31mTypeError\u001b[0m: '<' not supported between instances of 'str' and 'int'"
          ]
        }
      ]
    },
    {
      "cell_type": "code",
      "source": [
        "import random\n",
        "\n",
        "#ランダムな数字の生成\n",
        "number = random.randint(1,1000)\n",
        "kaisuu = 0\n",
        "\n",
        "#予想の入力\n",
        "guess = input('1から1000の数字を入力してください！')\n",
        "guess = int(guess)\n",
        "\n",
        "#結果\n",
        "if guess < number:\n",
        "  print('もっと大きい数です！')\n",
        "\n",
        "elif guess > number:\n",
        "  print('もっと小さい数です！')\n",
        "\n",
        "else:\n",
        "  print('正解です！')"
      ],
      "metadata": {
        "colab": {
          "base_uri": "https://localhost:8080/"
        },
        "id": "aGuDxTlIOEoV",
        "outputId": "14e8e0ce-c719-430c-aac8-611e7db2b67b"
      },
      "execution_count": 3,
      "outputs": [
        {
          "output_type": "stream",
          "name": "stdout",
          "text": [
            "1から1000の数字を入力してください！500\n",
            "もっと大きい数です！\n"
          ]
        }
      ]
    },
    {
      "cell_type": "code",
      "source": [
        "#繰り返したい→while"
      ],
      "metadata": {
        "id": "vl66vSkWOOxo"
      },
      "execution_count": 4,
      "outputs": []
    },
    {
      "cell_type": "code",
      "source": [
        "#回数も入れたい"
      ],
      "metadata": {
        "id": "mbmtY7foOQtf"
      },
      "execution_count": 5,
      "outputs": []
    },
    {
      "cell_type": "code",
      "source": [
        "import random\n",
        "\n",
        "#ランダムな数字の生成\n",
        "number = random.randint(1,1000)\n",
        "kaisuu = 0\n",
        "\n",
        "while True:\n",
        "\n",
        "\n",
        "  #予想の入力\n",
        "  guess = input('1から1000の数字を予想してください！')\n",
        "  guess = int(guess)\n",
        "\n",
        "  #結果\n",
        "  if guess < number:\n",
        "    print('もっと大きい数です！')\n",
        "\n",
        "  elif guess > number:\n",
        "    print('もっと小さい数です！')\n",
        "\n",
        "  else:\n",
        "    print('正解です！')\n",
        "    break"
      ],
      "metadata": {
        "colab": {
          "base_uri": "https://localhost:8080/"
        },
        "id": "8r2gTFAfX3KB",
        "outputId": "45e92457-b6b1-4e6a-d160-753cb0168c77"
      },
      "execution_count": 6,
      "outputs": [
        {
          "output_type": "stream",
          "name": "stdout",
          "text": [
            "1から1000の数字を予想してください！600\n",
            "もっと小さい数です！\n",
            "1から1000の数字を予想してください！400\n",
            "もっと小さい数です！\n",
            "1から1000の数字を予想してください！100\n",
            "もっと大きい数です！\n",
            "1から1000の数字を予想してください！150\n",
            "もっと大きい数です！\n",
            "1から1000の数字を予想してください！250\n",
            "もっと小さい数です！\n",
            "1から1000の数字を予想してください！22\n",
            "もっと大きい数です！\n",
            "1から1000の数字を予想してください！220\n",
            "もっと小さい数です！\n",
            "1から1000の数字を予想してください！200\n",
            "もっと大きい数です！\n",
            "1から1000の数字を予想してください！215\n",
            "もっと大きい数です！\n",
            "1から1000の数字を予想してください！218\n",
            "もっと大きい数です！\n",
            "1から1000の数字を予想してください！219\n",
            "正解です！\n"
          ]
        }
      ]
    },
    {
      "cell_type": "code",
      "source": [
        "import random\n",
        "\n",
        "#ランダムな数字の生成\n",
        "number = random.randint(1,1000)\n",
        "kaisuu = 0\n",
        "\n",
        "while True:\n",
        "  kaisuu += 1\n",
        "\n",
        "  #予想の入力\n",
        "  guess = input('1から1000の数字を予想してください！')\n",
        "  guess = int(guess)\n",
        "\n",
        "  #結果\n",
        "  if guess < number:\n",
        "    print('もっと大きい数です！')\n",
        "\n",
        "  elif guess > number:\n",
        "    print('もっと小さい数です！')\n",
        "\n",
        "  else:\n",
        "    print(f'正解です！記録は{kaisuu}回です！')\n",
        "    break"
      ],
      "metadata": {
        "colab": {
          "base_uri": "https://localhost:8080/"
        },
        "id": "vQducQKtZXmD",
        "outputId": "b3aea703-a704-404a-b87d-c64bf5fd377d"
      },
      "execution_count": 7,
      "outputs": [
        {
          "output_type": "stream",
          "name": "stdout",
          "text": [
            "1から1000の数字を予想してください！500\n",
            "もっと大きい数です！\n",
            "1から1000の数字を予想してください！800\n",
            "もっと小さい数です！\n",
            "1から1000の数字を予想してください！600\n",
            "もっと大きい数です！\n",
            "1から1000の数字を予想してください！700\n",
            "もっと小さい数です！\n",
            "1から1000の数字を予想してください！650\n",
            "もっと大きい数です！\n",
            "1から1000の数字を予想してください！670\n",
            "もっと大きい数です！\n",
            "1から1000の数字を予想してください！690\n",
            "もっと小さい数です！\n",
            "1から1000の数字を予想してください！685\n",
            "もっと小さい数です！\n",
            "1から1000の数字を予想してください！680\n",
            "もっと小さい数です！\n",
            "1から1000の数字を予想してください！675\n",
            "もっと大きい数です！\n",
            "1から1000の数字を予想してください！678\n",
            "もっと小さい数です！\n",
            "1から1000の数字を予想してください！676\n",
            "正解です！記録は12回です！\n"
          ]
        }
      ]
    },
    {
      "cell_type": "code",
      "source": [
        "#できた！！！！！！！！！！！"
      ],
      "metadata": {
        "id": "KDKTdWrzaImk"
      },
      "execution_count": 8,
      "outputs": []
    },
    {
      "cell_type": "code",
      "source": [],
      "metadata": {
        "id": "m1tjwK0iaVMZ"
      },
      "execution_count": null,
      "outputs": []
    }
  ]
}