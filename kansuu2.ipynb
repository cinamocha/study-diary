{
  "nbformat": 4,
  "nbformat_minor": 0,
  "metadata": {
    "colab": {
      "provenance": [],
      "authorship_tag": "ABX9TyNEwCy7U98GP7KI85Kq+uoG",
      "include_colab_link": true
    },
    "kernelspec": {
      "name": "python3",
      "display_name": "Python 3"
    },
    "language_info": {
      "name": "python"
    }
  },
  "cells": [
    {
      "cell_type": "markdown",
      "metadata": {
        "id": "view-in-github",
        "colab_type": "text"
      },
      "source": [
        "<a href=\"https://colab.research.google.com/github/cinamocha/studying-py/blob/main/kansuu2.ipynb\" target=\"_parent\"><img src=\"https://colab.research.google.com/assets/colab-badge.svg\" alt=\"Open In Colab\"/></a>"
      ]
    },
    {
      "cell_type": "code",
      "execution_count": 1,
      "metadata": {
        "id": "ojEpOF4I_Bt-"
      },
      "outputs": [],
      "source": [
        "calc_average_lambda = lambda numbers: sum(numbers) / len(numbers)"
      ]
    },
    {
      "cell_type": "code",
      "source": [
        "numbers = [2, 5, 7, 3, 1]\n",
        "\n",
        "calc_average_lambda(numbers)"
      ],
      "metadata": {
        "colab": {
          "base_uri": "https://localhost:8080/"
        },
        "id": "UwMNl3Xl_ZIU",
        "outputId": "70c6b6d1-920f-49d6-ab44-641aba528535"
      },
      "execution_count": 2,
      "outputs": [
        {
          "output_type": "execute_result",
          "data": {
            "text/plain": [
              "3.6"
            ]
          },
          "metadata": {},
          "execution_count": 2
        }
      ]
    },
    {
      "cell_type": "code",
      "source": [
        "def func(x):\n",
        "  if x % 2 == 0:\n",
        "    return x\n",
        "\n",
        "  else:\n",
        "    return '2で割り切れません'\n",
        ""
      ],
      "metadata": {
        "id": "EHh5bbtH_j-m"
      },
      "execution_count": 3,
      "outputs": []
    },
    {
      "cell_type": "code",
      "source": [
        "result1 = func(2)\n",
        "result2 = func(5)\n",
        "print(result1)\n",
        "print(result2)"
      ],
      "metadata": {
        "colab": {
          "base_uri": "https://localhost:8080/"
        },
        "id": "J0ofBj-gAIgs",
        "outputId": "87f3de77-a2c1-4706-f8b0-f1ca4fc6d288"
      },
      "execution_count": 9,
      "outputs": [
        {
          "output_type": "stream",
          "name": "stdout",
          "text": [
            "2\n",
            "2で割り切れません\n"
          ]
        }
      ]
    },
    {
      "cell_type": "code",
      "source": [
        "mylambda = lambda x: x if x % 2 == 0 else '2で割り切れません'\n",
        "\n",
        "result3 = mylambda(6)\n",
        "result4 = mylambda(9)"
      ],
      "metadata": {
        "id": "X6lAiHusAQdO"
      },
      "execution_count": 11,
      "outputs": []
    },
    {
      "cell_type": "code",
      "source": [
        "print(result3)\n",
        "print(result4)"
      ],
      "metadata": {
        "colab": {
          "base_uri": "https://localhost:8080/"
        },
        "id": "cXI5z9C3BtN-",
        "outputId": "1dd1aea3-6feb-4d5c-a160-20a5504617fd"
      },
      "execution_count": 12,
      "outputs": [
        {
          "output_type": "stream",
          "name": "stdout",
          "text": [
            "6\n",
            "2で割り切れません\n"
          ]
        }
      ]
    },
    {
      "cell_type": "code",
      "source": [
        "#無名関数難しい、普通の関数じゃダメなのか。。。"
      ],
      "metadata": {
        "id": "l8QQ8bcDB1yj"
      },
      "execution_count": 13,
      "outputs": []
    },
    {
      "cell_type": "code",
      "source": [],
      "metadata": {
        "id": "QR8CRFTaCEyr"
      },
      "execution_count": null,
      "outputs": []
    }
  ]
}