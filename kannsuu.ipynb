{
  "nbformat": 4,
  "nbformat_minor": 0,
  "metadata": {
    "colab": {
      "provenance": [],
      "authorship_tag": "ABX9TyMDfSjdk58ZcRT99RKJdALj",
      "include_colab_link": true
    },
    "kernelspec": {
      "name": "python3",
      "display_name": "Python 3"
    },
    "language_info": {
      "name": "python"
    }
  },
  "cells": [
    {
      "cell_type": "markdown",
      "metadata": {
        "id": "view-in-github",
        "colab_type": "text"
      },
      "source": [
        "<a href=\"https://colab.research.google.com/github/cinamocha/studying-py/blob/main/kannsuu.ipynb\" target=\"_parent\"><img src=\"https://colab.research.google.com/assets/colab-badge.svg\" alt=\"Open In Colab\"/></a>"
      ]
    },
    {
      "cell_type": "code",
      "execution_count": 1,
      "metadata": {
        "id": "6_PEW_R60g7C"
      },
      "outputs": [],
      "source": [
        "a = [2, 3, 5, 7, 1]"
      ]
    },
    {
      "cell_type": "code",
      "source": [
        "#合計、最小、最大\n",
        "print(sum(a))\n",
        "print(min(a))\n",
        "print(max(a))"
      ],
      "metadata": {
        "colab": {
          "base_uri": "https://localhost:8080/"
        },
        "id": "NUmrLGGU1TwS",
        "outputId": "4bec922a-e966-4882-bfff-a0acf711ae37"
      },
      "execution_count": 2,
      "outputs": [
        {
          "output_type": "stream",
          "name": "stdout",
          "text": [
            "18\n",
            "1\n",
            "7\n"
          ]
        }
      ]
    },
    {
      "cell_type": "code",
      "source": [
        "#リスト[2, 5, 7, 3, 1]の平均を求める\n",
        "b = [2, 5, 7, 3, 1]\n",
        "\n",
        "print(sum(b) / len(b))"
      ],
      "metadata": {
        "colab": {
          "base_uri": "https://localhost:8080/"
        },
        "id": "XjPXeIyY1jTV",
        "outputId": "ac5ab512-0691-4421-f398-d381d88a6187"
      },
      "execution_count": 4,
      "outputs": [
        {
          "output_type": "stream",
          "name": "stdout",
          "text": [
            "3.6\n"
          ]
        }
      ]
    },
    {
      "cell_type": "code",
      "source": [
        "#おおおおおおおおおおお"
      ],
      "metadata": {
        "id": "Pq3AXs_U2QPn"
      },
      "execution_count": 5,
      "outputs": []
    },
    {
      "cell_type": "code",
      "source": [
        "#関数の定義"
      ],
      "metadata": {
        "id": "E00FzYrO2oXJ"
      },
      "execution_count": 6,
      "outputs": []
    },
    {
      "cell_type": "code",
      "source": [
        "def say_hello():\n",
        "  print('Hello')"
      ],
      "metadata": {
        "id": "ZM-rUj4O2wE1"
      },
      "execution_count": 7,
      "outputs": []
    },
    {
      "cell_type": "code",
      "source": [
        "say_hello()"
      ],
      "metadata": {
        "colab": {
          "base_uri": "https://localhost:8080/"
        },
        "id": "7JMEHh7o28UQ",
        "outputId": "2a461832-0a1f-4248-fa54-262cb26377d0"
      },
      "execution_count": 8,
      "outputs": [
        {
          "output_type": "stream",
          "name": "stdout",
          "text": [
            "Hello\n"
          ]
        }
      ]
    },
    {
      "cell_type": "code",
      "source": [
        "#おおおおおおおおおおおお"
      ],
      "metadata": {
        "id": "hF6tFmw93AOF"
      },
      "execution_count": 9,
      "outputs": []
    },
    {
      "cell_type": "code",
      "source": [
        "#平均の関数を作る"
      ],
      "metadata": {
        "id": "1TExpLZ03BvT"
      },
      "execution_count": 10,
      "outputs": []
    },
    {
      "cell_type": "code",
      "source": [
        "def average(nums):\n",
        "  print(sum(nums)/len(nums))\n"
      ],
      "metadata": {
        "id": "JRuh-pQD3FUp"
      },
      "execution_count": 11,
      "outputs": []
    },
    {
      "cell_type": "code",
      "source": [
        "a = [1, 2, 3, 5, 6]\n",
        "average(a)"
      ],
      "metadata": {
        "colab": {
          "base_uri": "https://localhost:8080/"
        },
        "id": "DWqDJosS32sb",
        "outputId": "13909c08-ed0b-4aff-9951-d6b51ed928b2"
      },
      "execution_count": 12,
      "outputs": [
        {
          "output_type": "stream",
          "name": "stdout",
          "text": [
            "3.4\n"
          ]
        }
      ]
    },
    {
      "cell_type": "code",
      "source": [
        "#おおおおおおおおおおおおおおおおおおおおおおおおお"
      ],
      "metadata": {
        "id": "AIRINmP93_cN"
      },
      "execution_count": 13,
      "outputs": []
    },
    {
      "cell_type": "code",
      "source": [
        "print(nums)"
      ],
      "metadata": {
        "colab": {
          "base_uri": "https://localhost:8080/",
          "height": 141
        },
        "id": "lZN517sl4A66",
        "outputId": "8f4d0948-cff5-40dd-9e75-6e3cbb224ca8"
      },
      "execution_count": 14,
      "outputs": [
        {
          "output_type": "error",
          "ename": "NameError",
          "evalue": "name 'nums' is not defined",
          "traceback": [
            "\u001b[0;31m---------------------------------------------------------------------------\u001b[0m",
            "\u001b[0;31mNameError\u001b[0m                                 Traceback (most recent call last)",
            "\u001b[0;32m<ipython-input-14-f1de6f66d35b>\u001b[0m in \u001b[0;36m<cell line: 1>\u001b[0;34m()\u001b[0m\n\u001b[0;32m----> 1\u001b[0;31m \u001b[0mprint\u001b[0m\u001b[0;34m(\u001b[0m\u001b[0mnums\u001b[0m\u001b[0;34m)\u001b[0m\u001b[0;34m\u001b[0m\u001b[0;34m\u001b[0m\u001b[0m\n\u001b[0m",
            "\u001b[0;31mNameError\u001b[0m: name 'nums' is not defined"
          ]
        }
      ]
    },
    {
      "cell_type": "code",
      "source": [
        "average(nums)"
      ],
      "metadata": {
        "colab": {
          "base_uri": "https://localhost:8080/",
          "height": 141
        },
        "id": "fcCuIA4i4VCv",
        "outputId": "b557a3f1-4ad0-424d-8164-d2d6268d47d1"
      },
      "execution_count": 15,
      "outputs": [
        {
          "output_type": "error",
          "ename": "NameError",
          "evalue": "name 'nums' is not defined",
          "traceback": [
            "\u001b[0;31m---------------------------------------------------------------------------\u001b[0m",
            "\u001b[0;31mNameError\u001b[0m                                 Traceback (most recent call last)",
            "\u001b[0;32m<ipython-input-15-2468b4544a44>\u001b[0m in \u001b[0;36m<cell line: 1>\u001b[0;34m()\u001b[0m\n\u001b[0;32m----> 1\u001b[0;31m \u001b[0maverage\u001b[0m\u001b[0;34m(\u001b[0m\u001b[0mnums\u001b[0m\u001b[0;34m)\u001b[0m\u001b[0;34m\u001b[0m\u001b[0;34m\u001b[0m\u001b[0m\n\u001b[0m",
            "\u001b[0;31mNameError\u001b[0m: name 'nums' is not defined"
          ]
        }
      ]
    },
    {
      "cell_type": "code",
      "source": [
        "#関数の中で定義した変数（引数も？）は外では使えない"
      ],
      "metadata": {
        "id": "oqdTjTQi4ZOt"
      },
      "execution_count": 16,
      "outputs": []
    },
    {
      "cell_type": "code",
      "source": [
        "def average(nums):\n",
        "  avg = print(sum(nums)/len(nums))\n",
        "  return avg"
      ],
      "metadata": {
        "id": "C2ffVe-h437N"
      },
      "execution_count": 18,
      "outputs": []
    },
    {
      "cell_type": "code",
      "source": [
        "average(a)"
      ],
      "metadata": {
        "colab": {
          "base_uri": "https://localhost:8080/"
        },
        "id": "6IeVZFtr5HRG",
        "outputId": "70763490-7cda-4adf-ad64-42967c9ccedd"
      },
      "execution_count": 19,
      "outputs": [
        {
          "output_type": "stream",
          "name": "stdout",
          "text": [
            "3.4\n"
          ]
        }
      ]
    },
    {
      "cell_type": "code",
      "source": [
        "b = [10 , 20]\n",
        "average(b)"
      ],
      "metadata": {
        "colab": {
          "base_uri": "https://localhost:8080/"
        },
        "id": "YUpLkz845fQb",
        "outputId": "8ec04679-4aed-4a26-d754-50be22b8724d"
      },
      "execution_count": 20,
      "outputs": [
        {
          "output_type": "stream",
          "name": "stdout",
          "text": [
            "15.0\n"
          ]
        }
      ]
    },
    {
      "cell_type": "code",
      "source": [
        "#printではなくreturnを使う理由\n",
        "#printは画面に表示するだけで値を保存したり、別のところで使ったりできない。\n",
        "#returnにすると、その関数の外に結果を出すことが出来、その値を別の変数に入れたりさらに計算することができる。"
      ],
      "metadata": {
        "id": "z0hoMG2h5mDS"
      },
      "execution_count": 21,
      "outputs": []
    },
    {
      "cell_type": "code",
      "source": [
        "#3で割り切れるときはFizz、5で割り切れるときはBuzz、両方で割り切れるときはFizzBuzz、どれにも該当しない場合はその数字を出力する関数\n",
        "def hantei(c):\n",
        "\n",
        "  if c % 15 == 0:\n",
        "    kekka = 'FizzBuzz'\n",
        "  elif c % 3 == 0:\n",
        "    kekka = 'Fizz'\n",
        "  elif c % 5 == 0:\n",
        "    kekka = 'Buzz'\n",
        "  else:\n",
        "    kekka = c\n",
        "  return kekka\n",
        "\n",
        "\n"
      ],
      "metadata": {
        "id": "rL73ZnWC7Av7"
      },
      "execution_count": 25,
      "outputs": []
    },
    {
      "cell_type": "code",
      "source": [
        "d = 30\n",
        "hantei(d)"
      ],
      "metadata": {
        "colab": {
          "base_uri": "https://localhost:8080/",
          "height": 35
        },
        "id": "t6lgcxiP94VK",
        "outputId": "81998d94-c823-4e85-a4a1-f487c603b14b"
      },
      "execution_count": 26,
      "outputs": [
        {
          "output_type": "execute_result",
          "data": {
            "text/plain": [
              "'FizzBuzz'"
            ],
            "application/vnd.google.colaboratory.intrinsic+json": {
              "type": "string"
            }
          },
          "metadata": {},
          "execution_count": 26
        }
      ]
    },
    {
      "cell_type": "code",
      "source": [
        "e = input('数字を入力してください！')\n",
        "hantei(int(e))"
      ],
      "metadata": {
        "colab": {
          "base_uri": "https://localhost:8080/",
          "height": 53
        },
        "id": "gs4Kj1MA-30K",
        "outputId": "50284491-3caa-4c3c-f5d2-bc369a832640"
      },
      "execution_count": 28,
      "outputs": [
        {
          "name": "stdout",
          "output_type": "stream",
          "text": [
            "数字を入力してください！45\n"
          ]
        },
        {
          "output_type": "execute_result",
          "data": {
            "text/plain": [
              "'FizzBuzz'"
            ],
            "application/vnd.google.colaboratory.intrinsic+json": {
              "type": "string"
            }
          },
          "metadata": {},
          "execution_count": 28
        }
      ]
    },
    {
      "cell_type": "code",
      "source": [
        "#引数は何個でもいける"
      ],
      "metadata": {
        "id": "Tg4RY7Cs_D8u"
      },
      "execution_count": 29,
      "outputs": []
    },
    {
      "cell_type": "code",
      "source": [
        "def add(a , b):\n",
        "  return a + b"
      ],
      "metadata": {
        "id": "yrFr-Zw6_uqZ"
      },
      "execution_count": 30,
      "outputs": []
    },
    {
      "cell_type": "code",
      "source": [
        "result = add(3 , 5)\n",
        "print(result)"
      ],
      "metadata": {
        "colab": {
          "base_uri": "https://localhost:8080/"
        },
        "id": "_-ahzpOE_0-z",
        "outputId": "c6765903-48c2-4aca-901b-061b4144cd35"
      },
      "execution_count": 32,
      "outputs": [
        {
          "output_type": "stream",
          "name": "stdout",
          "text": [
            "8\n"
          ]
        }
      ]
    },
    {
      "cell_type": "code",
      "source": [
        "def fullname(last , first):\n",
        "  return last + ' ' + first"
      ],
      "metadata": {
        "id": "ftDBfzG6_71-"
      },
      "execution_count": 33,
      "outputs": []
    },
    {
      "cell_type": "code",
      "source": [
        "tana = fullname('田中' , '太郎')\n",
        "print(tana)"
      ],
      "metadata": {
        "colab": {
          "base_uri": "https://localhost:8080/"
        },
        "id": "HaTL0ZgeAUHn",
        "outputId": "6367b5b5-0343-4638-ff83-8b3d472e6578"
      },
      "execution_count": 36,
      "outputs": [
        {
          "output_type": "stream",
          "name": "stdout",
          "text": [
            "田中 太郎\n"
          ]
        }
      ]
    },
    {
      "cell_type": "code",
      "source": [
        "suzu = fullname(first='沙弥香' , last='鈴木')\n",
        "print(suzu)"
      ],
      "metadata": {
        "colab": {
          "base_uri": "https://localhost:8080/"
        },
        "id": "9NgtjfklAZbW",
        "outputId": "007305a7-d5b8-4b39-cc03-aa8059f77103"
      },
      "execution_count": 37,
      "outputs": [
        {
          "output_type": "stream",
          "name": "stdout",
          "text": [
            "鈴木 沙弥香\n"
          ]
        }
      ]
    },
    {
      "cell_type": "code",
      "source": [
        "#first = '鈴木 ' のようにしてあげると渡す引数の順番が違うくても対応してくれる\n",
        "#キーワード引数"
      ],
      "metadata": {
        "id": "eA2qaxIMBMpd"
      },
      "execution_count": 39,
      "outputs": []
    },
    {
      "cell_type": "code",
      "source": [
        "#デフォルト引数、あらかじめ初期値を設定する"
      ],
      "metadata": {
        "id": "VIjVPLhLBaSR"
      },
      "execution_count": 40,
      "outputs": []
    },
    {
      "cell_type": "code",
      "source": [
        "def greet(name , message = 'Hello'):\n",
        "  print(message , name , '!')"
      ],
      "metadata": {
        "id": "SgLtnQ39BvfM"
      },
      "execution_count": 41,
      "outputs": []
    },
    {
      "cell_type": "code",
      "source": [
        "greet('Alice')"
      ],
      "metadata": {
        "colab": {
          "base_uri": "https://localhost:8080/"
        },
        "id": "Gj1aaduKCAy5",
        "outputId": "d18c1a32-1f9d-4e59-9df9-a327fde2f3f7"
      },
      "execution_count": 43,
      "outputs": [
        {
          "output_type": "stream",
          "name": "stdout",
          "text": [
            "Hello Alice !\n"
          ]
        }
      ]
    },
    {
      "cell_type": "code",
      "source": [
        "greet('Bob' , 'Goodbye')"
      ],
      "metadata": {
        "colab": {
          "base_uri": "https://localhost:8080/"
        },
        "id": "Nq4fUjLtCC7a",
        "outputId": "b47c51e8-8a48-4823-f1e9-d06c9444e377"
      },
      "execution_count": 44,
      "outputs": [
        {
          "output_type": "stream",
          "name": "stdout",
          "text": [
            "Goodbye Bob !\n"
          ]
        }
      ]
    },
    {
      "cell_type": "code",
      "source": [],
      "metadata": {
        "id": "Siu-wtDDCMSf"
      },
      "execution_count": null,
      "outputs": []
    }
  ]
}