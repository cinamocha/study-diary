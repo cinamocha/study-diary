{
  "nbformat": 4,
  "nbformat_minor": 0,
  "metadata": {
    "colab": {
      "provenance": [],
      "authorship_tag": "ABX9TyO9rv4s9PqKuxR5zhwHSnf3",
      "include_colab_link": true
    },
    "kernelspec": {
      "name": "python3",
      "display_name": "Python 3"
    },
    "language_info": {
      "name": "python"
    }
  },
  "cells": [
    {
      "cell_type": "markdown",
      "metadata": {
        "id": "view-in-github",
        "colab_type": "text"
      },
      "source": [
        "<a href=\"https://colab.research.google.com/github/cinamocha/studying-py/blob/main/reigai.ipynb\" target=\"_parent\"><img src=\"https://colab.research.google.com/assets/colab-badge.svg\" alt=\"Open In Colab\"/></a>"
      ]
    },
    {
      "cell_type": "code",
      "execution_count": 1,
      "metadata": {
        "id": "1DHJZcC7CexQ"
      },
      "outputs": [],
      "source": [
        "add_num = lambda a, b: a + b"
      ]
    },
    {
      "cell_type": "code",
      "source": [
        "add_num(1 , '2')"
      ],
      "metadata": {
        "colab": {
          "base_uri": "https://localhost:8080/",
          "height": 193
        },
        "id": "MORDnCEOCs1X",
        "outputId": "338d6264-6ae3-4d85-d97d-7f3cae172118"
      },
      "execution_count": 2,
      "outputs": [
        {
          "output_type": "error",
          "ename": "TypeError",
          "evalue": "unsupported operand type(s) for +: 'int' and 'str'",
          "traceback": [
            "\u001b[0;31m---------------------------------------------------------------------------\u001b[0m",
            "\u001b[0;31mTypeError\u001b[0m                                 Traceback (most recent call last)",
            "\u001b[0;32m<ipython-input-2-75870bf6c4be>\u001b[0m in \u001b[0;36m<cell line: 1>\u001b[0;34m()\u001b[0m\n\u001b[0;32m----> 1\u001b[0;31m \u001b[0madd_num\u001b[0m\u001b[0;34m(\u001b[0m\u001b[0;36m1\u001b[0m \u001b[0;34m,\u001b[0m \u001b[0;34m'2'\u001b[0m\u001b[0;34m)\u001b[0m\u001b[0;34m\u001b[0m\u001b[0;34m\u001b[0m\u001b[0m\n\u001b[0m",
            "\u001b[0;32m<ipython-input-1-790964bc519a>\u001b[0m in \u001b[0;36m<lambda>\u001b[0;34m(a, b)\u001b[0m\n\u001b[0;32m----> 1\u001b[0;31m \u001b[0madd_num\u001b[0m \u001b[0;34m=\u001b[0m \u001b[0;32mlambda\u001b[0m \u001b[0ma\u001b[0m\u001b[0;34m,\u001b[0m \u001b[0mb\u001b[0m\u001b[0;34m:\u001b[0m \u001b[0ma\u001b[0m \u001b[0;34m+\u001b[0m \u001b[0mb\u001b[0m\u001b[0;34m\u001b[0m\u001b[0;34m\u001b[0m\u001b[0m\n\u001b[0m",
            "\u001b[0;31mTypeError\u001b[0m: unsupported operand type(s) for +: 'int' and 'str'"
          ]
        }
      ]
    },
    {
      "cell_type": "code",
      "source": [
        "#intとstrの足し算だから"
      ],
      "metadata": {
        "id": "CsUUmkzhCwMX"
      },
      "execution_count": 3,
      "outputs": []
    },
    {
      "cell_type": "code",
      "source": [
        "try:\n",
        "  r = add_num(1 , '2')\n",
        "  print(r)\n",
        "except TypeError as e:\n",
        "  print('例外処理')\n",
        "  print(e)\n",
        "print('例外処理終了')"
      ],
      "metadata": {
        "colab": {
          "base_uri": "https://localhost:8080/"
        },
        "id": "rAtAZBtpC14h",
        "outputId": "14662f57-2a34-4c90-899a-173b0f374b87"
      },
      "execution_count": 5,
      "outputs": [
        {
          "output_type": "stream",
          "name": "stdout",
          "text": [
            "例外処理\n",
            "unsupported operand type(s) for +: 'int' and 'str'\n",
            "例外処理終了\n"
          ]
        }
      ]
    },
    {
      "cell_type": "code",
      "source": [
        "try:\n",
        "  r = add_num(1 , 2)\n",
        "except TypeError as e:\n",
        "  print('例外処理')\n",
        "  print(e)\n",
        "else:\n",
        "  print(r)\n",
        "print('例外処理終了')"
      ],
      "metadata": {
        "colab": {
          "base_uri": "https://localhost:8080/"
        },
        "id": "NOsAtKAuDuuT",
        "outputId": "5a5eebdd-caa9-449d-fc17-03ee27e1056a"
      },
      "execution_count": 7,
      "outputs": [
        {
          "output_type": "stream",
          "name": "stdout",
          "text": [
            "3\n",
            "例外処理終了\n"
          ]
        }
      ]
    },
    {
      "cell_type": "code",
      "source": [
        "try:\n",
        "  r = add_num(1 , 2)\n",
        "except TypeError as e:\n",
        "  print('例外処理')\n",
        "  print(e)\n",
        "else:\n",
        "  print(r)\n",
        "finally:\n",
        "  print('例外処理完了')\n",
        "print('例外処理終了')"
      ],
      "metadata": {
        "colab": {
          "base_uri": "https://localhost:8080/"
        },
        "id": "w1DbUMWcEU5E",
        "outputId": "bc73e5b7-0f0f-4852-d3fb-f420c4b5b0ca"
      },
      "execution_count": 8,
      "outputs": [
        {
          "output_type": "stream",
          "name": "stdout",
          "text": [
            "3\n",
            "例外処理完了\n",
            "例外処理終了\n"
          ]
        }
      ]
    },
    {
      "cell_type": "code",
      "source": [
        "#エラーが発生するかわからないときに使う"
      ],
      "metadata": {
        "id": "Ct1xqjCfEeNk"
      },
      "execution_count": 9,
      "outputs": []
    },
    {
      "cell_type": "code",
      "source": [],
      "metadata": {
        "id": "z9_SQTPyEyNC"
      },
      "execution_count": null,
      "outputs": []
    }
  ]
}